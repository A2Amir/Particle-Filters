{
 "cells": [
  {
   "cell_type": "code",
   "execution_count": 1,
   "metadata": {},
   "outputs": [],
   "source": [
    "from math import *\n",
    "import random"
   ]
  },
  {
   "cell_type": "code",
   "execution_count": 2,
   "metadata": {},
   "outputs": [],
   "source": [
    "landmarks=[[20.0,20.0],[80.0,80.0],[20.0,80.0],[80.0,20.0]]\n",
    "world_size=100.0"
   ]
  },
  {
   "cell_type": "code",
   "execution_count": 8,
   "metadata": {},
   "outputs": [],
   "source": [
    "class robot:\n",
    "    def __init__(self):\n",
    "        self.x=random.Random()*world_size\n",
    "        self.y=random.Random()*world_size\n",
    "        self.orientation=random.Random()*2.0*pi\n",
    "        slef.forward_noise=0.0\n",
    "        self.turn_noise=0.0\n",
    "        self.sense_noise=0.0\n",
    "        \n",
    "    def set(self,new_x,new_y,new_orientation):\n",
    "        if (new_x<0 or new_x>= world_size):\n",
    "            raise ValueError ('X coordinate out of bound' )\n",
    "        if (new_y<0 or new_y>= world_size):\n",
    "            raise ValueError ('Y coordinate out of bound')\n",
    "        if (new_orientation<0 or new_orientation >=(2*pi)):\n",
    "            raise ValueError ('Orientation must be in [0..2pi]')\n",
    "        \n",
    "        self.x=float(new_x)\n",
    "        self.y=float(new_y)\n",
    "        self.orientation=float(new_orientation)\n",
    "     \n",
    "    def set_noise(self,nnew_f_noise,new_t_noise,new_s_noise):\n",
    "        # makes it possible to change the noise parameters\n",
    "        # this is often useful in particle filters\n",
    "        self.forward_noise = float(new_f_noise);\n",
    "        self.turn_noise    = float(new_t_noise);\n",
    "        self.sense_noise   = float(new_s_noise);\n",
    "        \n",
    "    def sense(self):\n",
    "        Z=[]\n",
    "        for i in range(len(landmarks)):\n",
    "            dist=sqrt((self.x-landmarks[i][0])**2+(self.y-landmarks[i][1])**2)\n",
    "            dist +=random.gauss(0.0,self.sense_noise)\n",
    "            Z.append(dist)\n",
    "        return Z\n",
    "    def move(self,turn,forward):\n",
    "        if (forward<0):\n",
    "            raise ValueError('Robot cant move backwards')   \n",
    "        \n",
    "        # turn, and add randomness to the turning command\n",
    "        orientation=self.orientation+float(turn)+random.gauss(0.0,self.turn_noise)\n",
    "        orientation %=2*pi\n",
    "        \n",
    "        # move, and add randomness to the motion command\n",
    "        dist=float(forward)+random.gauss(self.forward_noise)\n",
    "        x=self.x+(cos(orientation)*dist)\n",
    "        y=self.y+(sin(orientation)*dist)\n",
    "        x=x%world_size  # cyclic truncate\n",
    "        y=y%world_size\n",
    "\n",
    "        # set particle\n",
    "        res=robot()\n",
    "        res.set(x,y,orientation)\n",
    "        res.set_noise(self.forward_noise, self.turn_noise, self.sense_noise)\n",
    "        return res\n",
    "    def Gaussian(self,mu,sigma,x):\n",
    "       # calculates the probability of x for 1-dim Gaussian with mean mu and var. sigma\n",
    "        return exp(-((mu-x)**2)/sigma**2/2.0)/sqrt(2.0*pi*(sigma**2))\n",
    "\n",
    "    def measurement(self,measurement):\n",
    "        \n",
    "        # calculates how likely a measurement should be\n",
    "        prob=1.0\n",
    "        for in range(len(measurement)):\n",
    "            dist=sqrt((self.x-measurement[i][0])**2+(self.y-measurement[i][1]))\n",
    "            prob= *=slf,"
   ]
  },
  {
   "cell_type": "code",
   "execution_count": null,
   "metadata": {},
   "outputs": [],
   "source": []
  },
  {
   "cell_type": "code",
   "execution_count": null,
   "metadata": {},
   "outputs": [],
   "source": []
  }
 ],
 "metadata": {
  "kernelspec": {
   "display_name": "Python 3",
   "language": "python",
   "name": "python3"
  },
  "language_info": {
   "codemirror_mode": {
    "name": "ipython",
    "version": 3
   },
   "file_extension": ".py",
   "mimetype": "text/x-python",
   "name": "python",
   "nbconvert_exporter": "python",
   "pygments_lexer": "ipython3",
   "version": "3.6.4"
  }
 },
 "nbformat": 4,
 "nbformat_minor": 2
}
